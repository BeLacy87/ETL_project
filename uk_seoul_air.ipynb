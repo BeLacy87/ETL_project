{
 "cells": [
  {
   "cell_type": "code",
   "execution_count": 1,
   "metadata": {},
   "outputs": [],
   "source": [
    "import pandas as pd\n",
    "from sqlalchemy import create_engine"
   ]
  },
  {
   "cell_type": "code",
   "execution_count": 2,
   "metadata": {},
   "outputs": [],
   "source": [
    "path = \"Resources/Measurement_summary.csv\"\n",
    "seoul_air_df = pd.read_csv(path)"
   ]
  },
  {
   "cell_type": "code",
   "execution_count": 3,
   "metadata": {},
   "outputs": [],
   "source": [
    "# Create a filtered dataframe from specific columns\n",
    "seoul_cols = [\"Measurement date\", \"Station code\", \"SO2\", \"NO2\", \"O3\", \"CO\", \"PM10\", \"PM2.5\"]\n",
    "seoul_transformed= seoul_air_df[seoul_cols].copy()\n",
    "\n",
    "# Rename the column headers\n",
    "seoul_transformed = seoul_transformed.rename(columns={\"Measurement date\": \"measurement_date\",\n",
    "                                                          \"Station code\": \"station_code\",\n",
    "                                                          \"SO2\": \"sulfer_dioxide\",\n",
    "                                                           \"NO2\":\"nitrous_dioxide\",\n",
    "                                                        \"O3\": \"ozone\",\n",
    "                                                        \"CO\": \"carbon_monoxide\",\n",
    "                                                        \"PM10\":\"particulate_matter_10000nm\",\n",
    "                                                        \"PM2.5\":\"particulate_matter_2500nm\"})"
   ]
  },
  {
   "cell_type": "code",
   "execution_count": 4,
   "metadata": {},
   "outputs": [],
   "source": [
    "seoul_transformed.insert(0, 'id', range(1, 1+ len(seoul_transformed)))"
   ]
  },
  {
   "cell_type": "code",
   "execution_count": 5,
   "metadata": {},
   "outputs": [
    {
     "data": {
      "text/html": [
       "<div>\n",
       "<style scoped>\n",
       "    .dataframe tbody tr th:only-of-type {\n",
       "        vertical-align: middle;\n",
       "    }\n",
       "\n",
       "    .dataframe tbody tr th {\n",
       "        vertical-align: top;\n",
       "    }\n",
       "\n",
       "    .dataframe thead th {\n",
       "        text-align: right;\n",
       "    }\n",
       "</style>\n",
       "<table border=\"1\" class=\"dataframe\">\n",
       "  <thead>\n",
       "    <tr style=\"text-align: right;\">\n",
       "      <th></th>\n",
       "      <th>id</th>\n",
       "      <th>measurement_date</th>\n",
       "      <th>station_code</th>\n",
       "      <th>sulfer_dioxide</th>\n",
       "      <th>nitrous_dioxide</th>\n",
       "      <th>ozone</th>\n",
       "      <th>carbon_monoxide</th>\n",
       "      <th>particulate_matter_10000nm</th>\n",
       "      <th>particulate_matter_2500nm</th>\n",
       "    </tr>\n",
       "  </thead>\n",
       "  <tbody>\n",
       "    <tr>\n",
       "      <th>0</th>\n",
       "      <td>1</td>\n",
       "      <td>2017-01-01 00:00</td>\n",
       "      <td>101</td>\n",
       "      <td>0.004</td>\n",
       "      <td>0.059</td>\n",
       "      <td>0.002</td>\n",
       "      <td>1.2</td>\n",
       "      <td>73.0</td>\n",
       "      <td>57.0</td>\n",
       "    </tr>\n",
       "    <tr>\n",
       "      <th>1</th>\n",
       "      <td>2</td>\n",
       "      <td>2017-01-01 01:00</td>\n",
       "      <td>101</td>\n",
       "      <td>0.004</td>\n",
       "      <td>0.058</td>\n",
       "      <td>0.002</td>\n",
       "      <td>1.2</td>\n",
       "      <td>71.0</td>\n",
       "      <td>59.0</td>\n",
       "    </tr>\n",
       "    <tr>\n",
       "      <th>2</th>\n",
       "      <td>3</td>\n",
       "      <td>2017-01-01 02:00</td>\n",
       "      <td>101</td>\n",
       "      <td>0.004</td>\n",
       "      <td>0.056</td>\n",
       "      <td>0.002</td>\n",
       "      <td>1.2</td>\n",
       "      <td>70.0</td>\n",
       "      <td>59.0</td>\n",
       "    </tr>\n",
       "    <tr>\n",
       "      <th>3</th>\n",
       "      <td>4</td>\n",
       "      <td>2017-01-01 03:00</td>\n",
       "      <td>101</td>\n",
       "      <td>0.004</td>\n",
       "      <td>0.056</td>\n",
       "      <td>0.002</td>\n",
       "      <td>1.2</td>\n",
       "      <td>70.0</td>\n",
       "      <td>58.0</td>\n",
       "    </tr>\n",
       "    <tr>\n",
       "      <th>4</th>\n",
       "      <td>5</td>\n",
       "      <td>2017-01-01 04:00</td>\n",
       "      <td>101</td>\n",
       "      <td>0.003</td>\n",
       "      <td>0.051</td>\n",
       "      <td>0.002</td>\n",
       "      <td>1.2</td>\n",
       "      <td>69.0</td>\n",
       "      <td>61.0</td>\n",
       "    </tr>\n",
       "  </tbody>\n",
       "</table>\n",
       "</div>"
      ],
      "text/plain": [
       "   id  measurement_date  station_code  sulfer_dioxide  nitrous_dioxide  ozone  \\\n",
       "0   1  2017-01-01 00:00           101           0.004            0.059  0.002   \n",
       "1   2  2017-01-01 01:00           101           0.004            0.058  0.002   \n",
       "2   3  2017-01-01 02:00           101           0.004            0.056  0.002   \n",
       "3   4  2017-01-01 03:00           101           0.004            0.056  0.002   \n",
       "4   5  2017-01-01 04:00           101           0.003            0.051  0.002   \n",
       "\n",
       "   carbon_monoxide  particulate_matter_10000nm  particulate_matter_2500nm  \n",
       "0              1.2                        73.0                       57.0  \n",
       "1              1.2                        71.0                       59.0  \n",
       "2              1.2                        70.0                       59.0  \n",
       "3              1.2                        70.0                       58.0  \n",
       "4              1.2                        69.0                       61.0  "
      ]
     },
     "execution_count": 5,
     "metadata": {},
     "output_type": "execute_result"
    }
   ],
   "source": [
    "seoul_transformed.head()"
   ]
  },
  {
   "cell_type": "code",
   "execution_count": 6,
   "metadata": {},
   "outputs": [],
   "source": [
    "path_2 = \"Resources/air-quality-monitoring-2014-1.csv\"\n",
    "uk_air_df = pd.read_csv(path_2)"
   ]
  },
  {
   "cell_type": "code",
   "execution_count": 7,
   "metadata": {},
   "outputs": [],
   "source": [
    "#Need to change times that begin with \"24\" to \"0\" in order to utilize pd.DateTime\n",
    "UK_narrow_1=uk_air_df.replace({'End Time': '24:00:00'},'00:00:00')"
   ]
  },
  {
   "cell_type": "code",
   "execution_count": 8,
   "metadata": {},
   "outputs": [],
   "source": [
    "#combine date and time columns, convert to DateTime\n",
    "combined=UK_narrow_1['End Date'] + ' ' + UK_narrow_1['End Time']\n",
    "combined_dt=pd.to_datetime(combined, yearfirst=True)\n",
    "UK_narrow_1['measurement_timestamp']=combined_dt"
   ]
  },
  {
   "cell_type": "code",
   "execution_count": 9,
   "metadata": {},
   "outputs": [],
   "source": [
    "# Create a filtered dataframe from specific columns\n",
    "UK_cols = [\"Air Quality Monitoring Station\", \"measurement_timestamp\", \"PM10\", \"Units\", \"NO2\"]\n",
    "UK_narrow= UK_narrow_1[UK_cols].copy()"
   ]
  },
  {
   "cell_type": "code",
   "execution_count": 10,
   "metadata": {},
   "outputs": [],
   "source": [
    "# Rename the column headers\n",
    "UK_transformed = UK_narrow.rename(columns={\"NO2\":\"nitrous_dioxide\",\n",
    "                                                        \"Air Quality Monitoring Station\": \"station_name\",\n",
    "                                                        \"PM10\":\"particulate_matter_10000nm\",\n",
    "                                                        \"NO2\":\"nitrous_dioxide_ugm_3\",\n",
    "                                                        \"Units\" : \"units\"})"
   ]
  },
  {
   "cell_type": "code",
   "execution_count": 11,
   "metadata": {},
   "outputs": [],
   "source": [
    "UK_transformed.insert(0, 'id', range(1, 1+ len(UK_transformed)))"
   ]
  },
  {
   "cell_type": "code",
   "execution_count": 12,
   "metadata": {},
   "outputs": [
    {
     "data": {
      "text/html": [
       "<div>\n",
       "<style scoped>\n",
       "    .dataframe tbody tr th:only-of-type {\n",
       "        vertical-align: middle;\n",
       "    }\n",
       "\n",
       "    .dataframe tbody tr th {\n",
       "        vertical-align: top;\n",
       "    }\n",
       "\n",
       "    .dataframe thead th {\n",
       "        text-align: right;\n",
       "    }\n",
       "</style>\n",
       "<table border=\"1\" class=\"dataframe\">\n",
       "  <thead>\n",
       "    <tr style=\"text-align: right;\">\n",
       "      <th></th>\n",
       "      <th>id</th>\n",
       "      <th>station_name</th>\n",
       "      <th>measurement_timestamp</th>\n",
       "      <th>particulate_matter_10000nm</th>\n",
       "      <th>units</th>\n",
       "      <th>nitrous_dioxide_ugm_3</th>\n",
       "    </tr>\n",
       "  </thead>\n",
       "  <tbody>\n",
       "    <tr>\n",
       "      <th>0</th>\n",
       "      <td>1</td>\n",
       "      <td>Tally Ho AQMS</td>\n",
       "      <td>2014-01-01 01:00:00</td>\n",
       "      <td>23.0</td>\n",
       "      <td>ugm-3 (INDIC.GRAV)</td>\n",
       "      <td>31.0</td>\n",
       "    </tr>\n",
       "    <tr>\n",
       "      <th>1</th>\n",
       "      <td>2</td>\n",
       "      <td>Tally Ho AQMS</td>\n",
       "      <td>2014-01-01 02:00:00</td>\n",
       "      <td>16.0</td>\n",
       "      <td>ugm-3 (INDIC.GRAV)</td>\n",
       "      <td>34.0</td>\n",
       "    </tr>\n",
       "    <tr>\n",
       "      <th>2</th>\n",
       "      <td>3</td>\n",
       "      <td>Tally Ho AQMS</td>\n",
       "      <td>2014-01-01 03:00:00</td>\n",
       "      <td>12.0</td>\n",
       "      <td>ugm-3 (INDIC.GRAV)</td>\n",
       "      <td>36.0</td>\n",
       "    </tr>\n",
       "    <tr>\n",
       "      <th>3</th>\n",
       "      <td>4</td>\n",
       "      <td>Tally Ho AQMS</td>\n",
       "      <td>2014-01-01 04:00:00</td>\n",
       "      <td>16.0</td>\n",
       "      <td>ugm-3 (INDIC.GRAV)</td>\n",
       "      <td>36.0</td>\n",
       "    </tr>\n",
       "    <tr>\n",
       "      <th>4</th>\n",
       "      <td>5</td>\n",
       "      <td>Tally Ho AQMS</td>\n",
       "      <td>2014-01-01 05:00:00</td>\n",
       "      <td>18.0</td>\n",
       "      <td>ugm-3 (INDIC.GRAV)</td>\n",
       "      <td>38.0</td>\n",
       "    </tr>\n",
       "  </tbody>\n",
       "</table>\n",
       "</div>"
      ],
      "text/plain": [
       "   id    station_name measurement_timestamp  particulate_matter_10000nm  \\\n",
       "0   1  Tally Ho AQMS    2014-01-01 01:00:00                        23.0   \n",
       "1   2  Tally Ho AQMS    2014-01-01 02:00:00                        16.0   \n",
       "2   3  Tally Ho AQMS    2014-01-01 03:00:00                        12.0   \n",
       "3   4  Tally Ho AQMS    2014-01-01 04:00:00                        16.0   \n",
       "4   5  Tally Ho AQMS    2014-01-01 05:00:00                        18.0   \n",
       "\n",
       "                units  nitrous_dioxide_ugm_3  \n",
       "0  ugm-3 (INDIC.GRAV)                   31.0  \n",
       "1  ugm-3 (INDIC.GRAV)                   34.0  \n",
       "2  ugm-3 (INDIC.GRAV)                   36.0  \n",
       "3  ugm-3 (INDIC.GRAV)                   36.0  \n",
       "4  ugm-3 (INDIC.GRAV)                   38.0  "
      ]
     },
     "execution_count": 12,
     "metadata": {},
     "output_type": "execute_result"
    }
   ],
   "source": [
    "UK_transformed.head()"
   ]
  },
  {
   "cell_type": "code",
   "execution_count": 21,
   "metadata": {},
   "outputs": [],
   "source": [
    "connection_string = \"postgres:Ceilidh91!@localhost:5432/ETL_project\"\n",
    "engine = create_engine(f'postgresql://{connection_string}')"
   ]
  },
  {
   "cell_type": "code",
   "execution_count": 22,
   "metadata": {
    "scrolled": true
   },
   "outputs": [
    {
     "data": {
      "text/plain": [
       "['seoul', 'uk']"
      ]
     },
     "execution_count": 22,
     "metadata": {},
     "output_type": "execute_result"
    }
   ],
   "source": [
    "# Confirm tables\n",
    "engine.table_names()"
   ]
  },
  {
   "cell_type": "code",
   "execution_count": 23,
   "metadata": {},
   "outputs": [],
   "source": [
    "UK_transformed.to_sql(name='uk', con=engine, if_exists='append', index=False)"
   ]
  },
  {
   "cell_type": "code",
   "execution_count": 24,
   "metadata": {},
   "outputs": [],
   "source": [
    "seoul_transformed.to_sql(name='seoul', con=engine, if_exists='append', index=False)"
   ]
  },
  {
   "cell_type": "code",
   "execution_count": 25,
   "metadata": {},
   "outputs": [
    {
     "data": {
      "text/html": [
       "<div>\n",
       "<style scoped>\n",
       "    .dataframe tbody tr th:only-of-type {\n",
       "        vertical-align: middle;\n",
       "    }\n",
       "\n",
       "    .dataframe tbody tr th {\n",
       "        vertical-align: top;\n",
       "    }\n",
       "\n",
       "    .dataframe thead th {\n",
       "        text-align: right;\n",
       "    }\n",
       "</style>\n",
       "<table border=\"1\" class=\"dataframe\">\n",
       "  <thead>\n",
       "    <tr style=\"text-align: right;\">\n",
       "      <th></th>\n",
       "      <th>id</th>\n",
       "      <th>station_name</th>\n",
       "      <th>measurement_timestamp</th>\n",
       "      <th>particulate_matter_10000nm</th>\n",
       "      <th>units</th>\n",
       "      <th>nitrous_dioxide_ugm_3</th>\n",
       "    </tr>\n",
       "  </thead>\n",
       "  <tbody>\n",
       "    <tr>\n",
       "      <th>0</th>\n",
       "      <td>1</td>\n",
       "      <td>Tally Ho AQMS</td>\n",
       "      <td>2014-01-01 01:00:00</td>\n",
       "      <td>23.0</td>\n",
       "      <td>ugm-3 (INDIC.GRAV)</td>\n",
       "      <td>31.0</td>\n",
       "    </tr>\n",
       "    <tr>\n",
       "      <th>1</th>\n",
       "      <td>2</td>\n",
       "      <td>Tally Ho AQMS</td>\n",
       "      <td>2014-01-01 02:00:00</td>\n",
       "      <td>16.0</td>\n",
       "      <td>ugm-3 (INDIC.GRAV)</td>\n",
       "      <td>34.0</td>\n",
       "    </tr>\n",
       "    <tr>\n",
       "      <th>2</th>\n",
       "      <td>3</td>\n",
       "      <td>Tally Ho AQMS</td>\n",
       "      <td>2014-01-01 03:00:00</td>\n",
       "      <td>12.0</td>\n",
       "      <td>ugm-3 (INDIC.GRAV)</td>\n",
       "      <td>36.0</td>\n",
       "    </tr>\n",
       "    <tr>\n",
       "      <th>3</th>\n",
       "      <td>4</td>\n",
       "      <td>Tally Ho AQMS</td>\n",
       "      <td>2014-01-01 04:00:00</td>\n",
       "      <td>16.0</td>\n",
       "      <td>ugm-3 (INDIC.GRAV)</td>\n",
       "      <td>36.0</td>\n",
       "    </tr>\n",
       "    <tr>\n",
       "      <th>4</th>\n",
       "      <td>5</td>\n",
       "      <td>Tally Ho AQMS</td>\n",
       "      <td>2014-01-01 05:00:00</td>\n",
       "      <td>18.0</td>\n",
       "      <td>ugm-3 (INDIC.GRAV)</td>\n",
       "      <td>38.0</td>\n",
       "    </tr>\n",
       "  </tbody>\n",
       "</table>\n",
       "</div>"
      ],
      "text/plain": [
       "   id    station_name measurement_timestamp  particulate_matter_10000nm  \\\n",
       "0   1  Tally Ho AQMS    2014-01-01 01:00:00                        23.0   \n",
       "1   2  Tally Ho AQMS    2014-01-01 02:00:00                        16.0   \n",
       "2   3  Tally Ho AQMS    2014-01-01 03:00:00                        12.0   \n",
       "3   4  Tally Ho AQMS    2014-01-01 04:00:00                        16.0   \n",
       "4   5  Tally Ho AQMS    2014-01-01 05:00:00                        18.0   \n",
       "\n",
       "                units  nitrous_dioxide_ugm_3  \n",
       "0  ugm-3 (INDIC.GRAV)                   31.0  \n",
       "1  ugm-3 (INDIC.GRAV)                   34.0  \n",
       "2  ugm-3 (INDIC.GRAV)                   36.0  \n",
       "3  ugm-3 (INDIC.GRAV)                   36.0  \n",
       "4  ugm-3 (INDIC.GRAV)                   38.0  "
      ]
     },
     "execution_count": 25,
     "metadata": {},
     "output_type": "execute_result"
    }
   ],
   "source": [
    "pd.read_sql_query('select * from uk', con=engine).head()"
   ]
  },
  {
   "cell_type": "code",
   "execution_count": 26,
   "metadata": {},
   "outputs": [
    {
     "data": {
      "text/html": [
       "<div>\n",
       "<style scoped>\n",
       "    .dataframe tbody tr th:only-of-type {\n",
       "        vertical-align: middle;\n",
       "    }\n",
       "\n",
       "    .dataframe tbody tr th {\n",
       "        vertical-align: top;\n",
       "    }\n",
       "\n",
       "    .dataframe thead th {\n",
       "        text-align: right;\n",
       "    }\n",
       "</style>\n",
       "<table border=\"1\" class=\"dataframe\">\n",
       "  <thead>\n",
       "    <tr style=\"text-align: right;\">\n",
       "      <th></th>\n",
       "      <th>id</th>\n",
       "      <th>measurement_date</th>\n",
       "      <th>station_code</th>\n",
       "      <th>sulfer_dioxide</th>\n",
       "      <th>nitrous_dioxide</th>\n",
       "      <th>ozone</th>\n",
       "      <th>carbon_monoxide</th>\n",
       "      <th>particulate_matter_10000nm</th>\n",
       "      <th>particulate_matter_2500nm</th>\n",
       "    </tr>\n",
       "  </thead>\n",
       "  <tbody>\n",
       "    <tr>\n",
       "      <th>0</th>\n",
       "      <td>1</td>\n",
       "      <td>2017-01-01 00:00:00</td>\n",
       "      <td>101</td>\n",
       "      <td>0.004</td>\n",
       "      <td>0.059</td>\n",
       "      <td>0.002</td>\n",
       "      <td>1.2</td>\n",
       "      <td>73.0</td>\n",
       "      <td>57.0</td>\n",
       "    </tr>\n",
       "    <tr>\n",
       "      <th>1</th>\n",
       "      <td>2</td>\n",
       "      <td>2017-01-01 01:00:00</td>\n",
       "      <td>101</td>\n",
       "      <td>0.004</td>\n",
       "      <td>0.058</td>\n",
       "      <td>0.002</td>\n",
       "      <td>1.2</td>\n",
       "      <td>71.0</td>\n",
       "      <td>59.0</td>\n",
       "    </tr>\n",
       "    <tr>\n",
       "      <th>2</th>\n",
       "      <td>3</td>\n",
       "      <td>2017-01-01 02:00:00</td>\n",
       "      <td>101</td>\n",
       "      <td>0.004</td>\n",
       "      <td>0.056</td>\n",
       "      <td>0.002</td>\n",
       "      <td>1.2</td>\n",
       "      <td>70.0</td>\n",
       "      <td>59.0</td>\n",
       "    </tr>\n",
       "    <tr>\n",
       "      <th>3</th>\n",
       "      <td>4</td>\n",
       "      <td>2017-01-01 03:00:00</td>\n",
       "      <td>101</td>\n",
       "      <td>0.004</td>\n",
       "      <td>0.056</td>\n",
       "      <td>0.002</td>\n",
       "      <td>1.2</td>\n",
       "      <td>70.0</td>\n",
       "      <td>58.0</td>\n",
       "    </tr>\n",
       "    <tr>\n",
       "      <th>4</th>\n",
       "      <td>5</td>\n",
       "      <td>2017-01-01 04:00:00</td>\n",
       "      <td>101</td>\n",
       "      <td>0.003</td>\n",
       "      <td>0.051</td>\n",
       "      <td>0.002</td>\n",
       "      <td>1.2</td>\n",
       "      <td>69.0</td>\n",
       "      <td>61.0</td>\n",
       "    </tr>\n",
       "  </tbody>\n",
       "</table>\n",
       "</div>"
      ],
      "text/plain": [
       "   id    measurement_date station_code  sulfer_dioxide  nitrous_dioxide  \\\n",
       "0   1 2017-01-01 00:00:00          101           0.004            0.059   \n",
       "1   2 2017-01-01 01:00:00          101           0.004            0.058   \n",
       "2   3 2017-01-01 02:00:00          101           0.004            0.056   \n",
       "3   4 2017-01-01 03:00:00          101           0.004            0.056   \n",
       "4   5 2017-01-01 04:00:00          101           0.003            0.051   \n",
       "\n",
       "   ozone  carbon_monoxide  particulate_matter_10000nm  \\\n",
       "0  0.002              1.2                        73.0   \n",
       "1  0.002              1.2                        71.0   \n",
       "2  0.002              1.2                        70.0   \n",
       "3  0.002              1.2                        70.0   \n",
       "4  0.002              1.2                        69.0   \n",
       "\n",
       "   particulate_matter_2500nm  \n",
       "0                       57.0  \n",
       "1                       59.0  \n",
       "2                       59.0  \n",
       "3                       58.0  \n",
       "4                       61.0  "
      ]
     },
     "execution_count": 26,
     "metadata": {},
     "output_type": "execute_result"
    }
   ],
   "source": [
    "pd.read_sql_query('select * from seoul', con=engine).head()"
   ]
  },
  {
   "cell_type": "code",
   "execution_count": null,
   "metadata": {},
   "outputs": [],
   "source": []
  }
 ],
 "metadata": {
  "kernelspec": {
   "display_name": "Python 3",
   "language": "python",
   "name": "python3"
  },
  "language_info": {
   "codemirror_mode": {
    "name": "ipython",
    "version": 3
   },
   "file_extension": ".py",
   "mimetype": "text/x-python",
   "name": "python",
   "nbconvert_exporter": "python",
   "pygments_lexer": "ipython3",
   "version": "3.6.10"
  }
 },
 "nbformat": 4,
 "nbformat_minor": 4
}
